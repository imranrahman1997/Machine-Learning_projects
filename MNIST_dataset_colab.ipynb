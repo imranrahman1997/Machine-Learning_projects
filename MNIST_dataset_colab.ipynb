{
  "nbformat": 4,
  "nbformat_minor": 0,
  "metadata": {
    "colab": {
      "name": "MNIST dataset_colab.ipynb",
      "provenance": [],
      "mount_file_id": "1dvavuBbSvhBMUGpbs5raHoV4NUmOtJnW",
      "authorship_tag": "ABX9TyNGGinIIzVmibqOHyoYL7T3",
      "include_colab_link": true
    },
    "kernelspec": {
      "name": "python3",
      "display_name": "Python 3"
    },
    "accelerator": "GPU"
  },
  "cells": [
    {
      "cell_type": "markdown",
      "metadata": {
        "id": "view-in-github",
        "colab_type": "text"
      },
      "source": [
        "<a href=\"https://colab.research.google.com/github/imranrahman1997/TensorFlow-Course/blob/master/MNIST_dataset_colab.ipynb\" target=\"_parent\"><img src=\"https://colab.research.google.com/assets/colab-badge.svg\" alt=\"Open In Colab\"/></a>"
      ]
    },
    {
      "cell_type": "code",
      "metadata": {
        "id": "M-uI8lsC3ruy"
      },
      "source": [
        "import numpy as np\n",
        "import pandas as pd\n",
        "import tensorflow as tf"
      ],
      "execution_count": 1,
      "outputs": []
    },
    {
      "cell_type": "code",
      "metadata": {
        "id": "PjRciRJl3r1m"
      },
      "source": [
        "# define path\n",
        "train_path = \"/content/drive/My Drive/Dataset/train.csv\"\n"
      ],
      "execution_count": 2,
      "outputs": []
    },
    {
      "cell_type": "code",
      "metadata": {
        "id": "3fDciOeu3r3t"
      },
      "source": [
        "train = pd.read_csv(train_path)\n"
      ],
      "execution_count": 3,
      "outputs": []
    },
    {
      "cell_type": "code",
      "metadata": {
        "id": "ar0WARXj3r99",
        "outputId": "77e26089-e49c-4c0c-9aa3-f48a589a9ba6",
        "colab": {
          "base_uri": "https://localhost:8080/"
        }
      },
      "source": [
        "train.shape"
      ],
      "execution_count": 4,
      "outputs": [
        {
          "output_type": "execute_result",
          "data": {
            "text/plain": [
              "(42000, 785)"
            ]
          },
          "metadata": {
            "tags": []
          },
          "execution_count": 4
        }
      ]
    },
    {
      "cell_type": "code",
      "metadata": {
        "id": "YDmvmDeaFH8C"
      },
      "source": [
        "x = train.iloc[:, 1:].values"
      ],
      "execution_count": 5,
      "outputs": []
    },
    {
      "cell_type": "code",
      "metadata": {
        "id": "rrDGIhl23sEu"
      },
      "source": [
        "y = train.iloc[:, 0].values"
      ],
      "execution_count": 6,
      "outputs": []
    },
    {
      "cell_type": "code",
      "metadata": {
        "id": "PaH7cco83sJB"
      },
      "source": [
        "from sklearn.preprocessing import StandardScaler"
      ],
      "execution_count": 7,
      "outputs": []
    },
    {
      "cell_type": "code",
      "metadata": {
        "id": "V_E5AlNkGHFy"
      },
      "source": [
        "from sklearn.model_selection import train_test_split\n",
        "x_train, x_test, y_train, y_test = train_test_split(x,y, test_size = 0.2, random_state = 0)"
      ],
      "execution_count": 8,
      "outputs": []
    },
    {
      "cell_type": "code",
      "metadata": {
        "id": "trd6_nOvGHIO"
      },
      "source": [
        "sc = StandardScaler()\n",
        "x_train = sc.fit_transform(x_train)\n",
        "x_test = sc.transform(x_test)"
      ],
      "execution_count": 9,
      "outputs": []
    },
    {
      "cell_type": "code",
      "metadata": {
        "id": "2HjmDqOAGHOZ",
        "outputId": "f7174329-89db-4091-80c2-a54458ca61fa",
        "colab": {
          "base_uri": "https://localhost:8080/"
        }
      },
      "source": [
        "x_train.shape[1]"
      ],
      "execution_count": 10,
      "outputs": [
        {
          "output_type": "execute_result",
          "data": {
            "text/plain": [
              "784"
            ]
          },
          "metadata": {
            "tags": []
          },
          "execution_count": 10
        }
      ]
    },
    {
      "cell_type": "code",
      "metadata": {
        "id": "PvS3xgpH3sND"
      },
      "source": [
        "from tensorflow.keras.models import Sequential\n",
        "from tensorflow.keras.layers import Input, Dense, Dropout"
      ],
      "execution_count": 11,
      "outputs": []
    },
    {
      "cell_type": "code",
      "metadata": {
        "id": "NW3ufPxv-Eom"
      },
      "source": [
        "model = tf.keras.models.Sequential([\n",
        "                                    tf.keras.layers.Input(shape = (784,)),\n",
        "                                    tf.keras.layers.Dense(20, activation= 'relu'),\n",
        "                                    \n",
        "                                    tf.keras.layers.Dense(20, activation = 'relu'),\n",
        "                                    \n",
        "                                    tf.keras.layers.Dense(10, activation = 'softmax')\n",
        "])"
      ],
      "execution_count": 12,
      "outputs": []
    },
    {
      "cell_type": "code",
      "metadata": {
        "id": "U7ivAJFr-ErJ"
      },
      "source": [
        "model.compile(\n",
        "    optimizer = 'sgd',\n",
        "    loss = 'sparse_categorical_crossentropy',\n",
        "    metrics = ['accuracy']\n",
        ")"
      ],
      "execution_count": 13,
      "outputs": []
    },
    {
      "cell_type": "code",
      "metadata": {
        "id": "K2067zbb-Eta",
        "outputId": "249cf8c8-875a-41d4-f602-2b65737660cf",
        "colab": {
          "base_uri": "https://localhost:8080/"
        }
      },
      "source": [
        "r = model.fit(x_train, y_train, epochs = 35, validation_data = (x_test, y_test))"
      ],
      "execution_count": 14,
      "outputs": [
        {
          "output_type": "stream",
          "text": [
            "Epoch 1/35\n",
            "1050/1050 [==============================] - 3s 2ms/step - loss: 0.7692 - accuracy: 0.7776 - val_loss: 0.3838 - val_accuracy: 0.8938\n",
            "Epoch 2/35\n",
            "1050/1050 [==============================] - 2s 2ms/step - loss: 0.3155 - accuracy: 0.9092 - val_loss: 0.3031 - val_accuracy: 0.9170\n",
            "Epoch 3/35\n",
            "1050/1050 [==============================] - 2s 2ms/step - loss: 0.2476 - accuracy: 0.9277 - val_loss: 0.2629 - val_accuracy: 0.9273\n",
            "Epoch 4/35\n",
            "1050/1050 [==============================] - 2s 2ms/step - loss: 0.2139 - accuracy: 0.9376 - val_loss: 0.2440 - val_accuracy: 0.9332\n",
            "Epoch 5/35\n",
            "1050/1050 [==============================] - 2s 2ms/step - loss: 0.1904 - accuracy: 0.9438 - val_loss: 0.2321 - val_accuracy: 0.9355\n",
            "Epoch 6/35\n",
            "1050/1050 [==============================] - 2s 2ms/step - loss: 0.1728 - accuracy: 0.9483 - val_loss: 0.2266 - val_accuracy: 0.9375\n",
            "Epoch 7/35\n",
            "1050/1050 [==============================] - 2s 2ms/step - loss: 0.1586 - accuracy: 0.9531 - val_loss: 0.2200 - val_accuracy: 0.9388\n",
            "Epoch 8/35\n",
            "1050/1050 [==============================] - 2s 2ms/step - loss: 0.1472 - accuracy: 0.9562 - val_loss: 0.2174 - val_accuracy: 0.9398\n",
            "Epoch 9/35\n",
            "1050/1050 [==============================] - 2s 2ms/step - loss: 0.1377 - accuracy: 0.9593 - val_loss: 0.2162 - val_accuracy: 0.9407\n",
            "Epoch 10/35\n",
            "1050/1050 [==============================] - 2s 2ms/step - loss: 0.1300 - accuracy: 0.9611 - val_loss: 0.2115 - val_accuracy: 0.9445\n",
            "Epoch 11/35\n",
            "1050/1050 [==============================] - 2s 2ms/step - loss: 0.1225 - accuracy: 0.9633 - val_loss: 0.2086 - val_accuracy: 0.9435\n",
            "Epoch 12/35\n",
            "1050/1050 [==============================] - 2s 2ms/step - loss: 0.1165 - accuracy: 0.9655 - val_loss: 0.2102 - val_accuracy: 0.9439\n",
            "Epoch 13/35\n",
            "1050/1050 [==============================] - 2s 2ms/step - loss: 0.1108 - accuracy: 0.9665 - val_loss: 0.2087 - val_accuracy: 0.9436\n",
            "Epoch 14/35\n",
            "1050/1050 [==============================] - 2s 2ms/step - loss: 0.1054 - accuracy: 0.9681 - val_loss: 0.2102 - val_accuracy: 0.9445\n",
            "Epoch 15/35\n",
            "1050/1050 [==============================] - 2s 2ms/step - loss: 0.1014 - accuracy: 0.9701 - val_loss: 0.2076 - val_accuracy: 0.9454\n",
            "Epoch 16/35\n",
            "1050/1050 [==============================] - 2s 2ms/step - loss: 0.0968 - accuracy: 0.9714 - val_loss: 0.2122 - val_accuracy: 0.9469\n",
            "Epoch 17/35\n",
            "1050/1050 [==============================] - 2s 2ms/step - loss: 0.0930 - accuracy: 0.9726 - val_loss: 0.2083 - val_accuracy: 0.9461\n",
            "Epoch 18/35\n",
            "1050/1050 [==============================] - 2s 2ms/step - loss: 0.0897 - accuracy: 0.9733 - val_loss: 0.2070 - val_accuracy: 0.9470\n",
            "Epoch 19/35\n",
            "1050/1050 [==============================] - 2s 2ms/step - loss: 0.0863 - accuracy: 0.9745 - val_loss: 0.2099 - val_accuracy: 0.9458\n",
            "Epoch 20/35\n",
            "1050/1050 [==============================] - 2s 2ms/step - loss: 0.0829 - accuracy: 0.9755 - val_loss: 0.2128 - val_accuracy: 0.9465\n",
            "Epoch 21/35\n",
            "1050/1050 [==============================] - 2s 2ms/step - loss: 0.0800 - accuracy: 0.9767 - val_loss: 0.2133 - val_accuracy: 0.9476\n",
            "Epoch 22/35\n",
            "1050/1050 [==============================] - 2s 2ms/step - loss: 0.0770 - accuracy: 0.9769 - val_loss: 0.2136 - val_accuracy: 0.9458\n",
            "Epoch 23/35\n",
            "1050/1050 [==============================] - 2s 2ms/step - loss: 0.0748 - accuracy: 0.9776 - val_loss: 0.2164 - val_accuracy: 0.9461\n",
            "Epoch 24/35\n",
            "1050/1050 [==============================] - 2s 2ms/step - loss: 0.0721 - accuracy: 0.9787 - val_loss: 0.2189 - val_accuracy: 0.9458\n",
            "Epoch 25/35\n",
            "1050/1050 [==============================] - 2s 2ms/step - loss: 0.0693 - accuracy: 0.9796 - val_loss: 0.2213 - val_accuracy: 0.9448\n",
            "Epoch 26/35\n",
            "1050/1050 [==============================] - 2s 2ms/step - loss: 0.0671 - accuracy: 0.9808 - val_loss: 0.2222 - val_accuracy: 0.9458\n",
            "Epoch 27/35\n",
            "1050/1050 [==============================] - 2s 2ms/step - loss: 0.0651 - accuracy: 0.9817 - val_loss: 0.2228 - val_accuracy: 0.9446\n",
            "Epoch 28/35\n",
            "1050/1050 [==============================] - 2s 2ms/step - loss: 0.0624 - accuracy: 0.9824 - val_loss: 0.2265 - val_accuracy: 0.9464\n",
            "Epoch 29/35\n",
            "1050/1050 [==============================] - 2s 2ms/step - loss: 0.0608 - accuracy: 0.9823 - val_loss: 0.2283 - val_accuracy: 0.9452\n",
            "Epoch 30/35\n",
            "1050/1050 [==============================] - 2s 2ms/step - loss: 0.0588 - accuracy: 0.9834 - val_loss: 0.2317 - val_accuracy: 0.9464\n",
            "Epoch 31/35\n",
            "1050/1050 [==============================] - 2s 2ms/step - loss: 0.0567 - accuracy: 0.9843 - val_loss: 0.2346 - val_accuracy: 0.9457\n",
            "Epoch 32/35\n",
            "1050/1050 [==============================] - 2s 2ms/step - loss: 0.0546 - accuracy: 0.9851 - val_loss: 0.2388 - val_accuracy: 0.9448\n",
            "Epoch 33/35\n",
            "1050/1050 [==============================] - 2s 2ms/step - loss: 0.0531 - accuracy: 0.9853 - val_loss: 0.2397 - val_accuracy: 0.9437\n",
            "Epoch 34/35\n",
            "1050/1050 [==============================] - 2s 2ms/step - loss: 0.0513 - accuracy: 0.9854 - val_loss: 0.2391 - val_accuracy: 0.9468\n",
            "Epoch 35/35\n",
            "1050/1050 [==============================] - 2s 2ms/step - loss: 0.0493 - accuracy: 0.9867 - val_loss: 0.2445 - val_accuracy: 0.9446\n"
          ],
          "name": "stdout"
        }
      ]
    },
    {
      "cell_type": "code",
      "metadata": {
        "id": "d-RmXxH2IqnY",
        "outputId": "16f7d97e-f212-4c3d-d9e7-e43efd4bdd9a",
        "colab": {
          "base_uri": "https://localhost:8080/",
          "height": 533
        }
      },
      "source": [
        "import matplotlib.pyplot as plt\n",
        "\n",
        "# plot the loss\n",
        "plt.plot(r.history['loss'], label='train loss')\n",
        "plt.plot(r.history['val_loss'], label='val loss')\n",
        "plt.legend()\n",
        "plt.show()\n",
        "plt.savefig('LossVal_loss')\n",
        "\n",
        "# plot the accuracy\n",
        "plt.plot(r.history['accuracy'], label='train acc')\n",
        "plt.plot(r.history['val_accuracy'], label='val acc')\n",
        "plt.legend()\n",
        "plt.show()\n",
        "plt.savefig('AccVal_acc')"
      ],
      "execution_count": 15,
      "outputs": [
        {
          "output_type": "display_data",
          "data": {
            "image/png": "[encoded data removed]",
            "text/plain": [
              "<Figure size 432x288 with 1 Axes>"
            ]
          },
          "metadata": {
            "tags": [],
            "needs_background": "light"
          }
        },
        {
          "output_type": "display_data",
          "data": {
            "image/png": "[encoded data removed]",
            "text/plain": [
              "<Figure size 432x288 with 1 Axes>"
            ]
          },
          "metadata": {
            "tags": [],
            "needs_background": "light"
          }
        },
        {
          "output_type": "display_data",
          "data": {
            "text/plain": [
              "<Figure size 432x288 with 0 Axes>"
            ]
          },
          "metadata": {
            "tags": []
          }
        }
      ]
    },
    {
      "cell_type": "code",
      "metadata": {
        "id": "ryYniTpRIqp1"
      },
      "source": [
        "test_path = '/content/drive/My Drive/Dataset/test.csv'\n",
        "test_path = pd.read_csv(test_path)"
      ],
      "execution_count": 16,
      "outputs": []
    },
    {
      "cell_type": "code",
      "metadata": {
        "id": "oEI_uKicIqsj"
      },
      "source": [
        "test = test_path.values"
      ],
      "execution_count": 17,
      "outputs": []
    },
    {
      "cell_type": "code",
      "metadata": {
        "id": "5GKPwGP6JbsU"
      },
      "source": [
        "test = sc.transform(test)"
      ],
      "execution_count": 18,
      "outputs": []
    },
    {
      "cell_type": "code",
      "metadata": {
        "id": "oT3pzYryJbux"
      },
      "source": [
        "prediction = model.predict(test)"
      ],
      "execution_count": 19,
      "outputs": []
    },
    {
      "cell_type": "code",
      "metadata": {
        "id": "IA6K3c57Jbxl",
        "outputId": "07bcab7b-809a-4b20-ed06-5f3c9c4a74ca",
        "colab": {
          "base_uri": "https://localhost:8080/"
        }
      },
      "source": [
        "prediction"
      ],
      "execution_count": 20,
      "outputs": [
        {
          "output_type": "execute_result",
          "data": {
            "text/plain": [
              "array([[2.7718344e-13, 2.8007312e-15, 1.0000000e+00, ..., 1.7064429e-10,\n",
              "        1.4785493e-12, 3.9988768e-14],\n",
              "       [9.9983490e-01, 8.3166850e-12, 2.0707575e-06, ..., 3.0626381e-08,\n",
              "        9.5750493e-06, 1.6612390e-07],\n",
              "       [5.4424621e-08, 4.8892882e-05, 2.5512639e-04, ..., 5.2073359e-05,\n",
              "        3.0171957e-03, 9.9206924e-01],\n",
              "       ...,\n",
              "       [8.1189066e-12, 4.6350707e-10, 5.4563853e-11, ..., 3.2951038e-11,\n",
              "        2.3924385e-09, 4.5236709e-07],\n",
              "       [2.9408964e-08, 1.3618097e-09, 1.4436294e-07, ..., 1.2273683e-04,\n",
              "        8.9481676e-07, 9.9118739e-01],\n",
              "       [1.5353484e-10, 4.8827273e-13, 1.0000000e+00, ..., 3.6268360e-11,\n",
              "        1.7165243e-09, 2.2432416e-12]], dtype=float32)"
            ]
          },
          "metadata": {
            "tags": []
          },
          "execution_count": 20
        }
      ]
    },
    {
      "cell_type": "code",
      "metadata": {
        "id": "wEXhowdEJb1g",
        "outputId": "344c0317-a2c7-4f96-b21f-cf0702fa12b9",
        "colab": {
          "base_uri": "https://localhost:8080/"
        }
      },
      "source": [
        "print(np.argmax(prediction, axis = 1))"
      ],
      "execution_count": 21,
      "outputs": [
        {
          "output_type": "stream",
          "text": [
            "[2 0 9 ... 3 9 2]\n"
          ],
          "name": "stdout"
        }
      ]
    },
    {
      "cell_type": "code",
      "metadata": {
        "id": "869Bnyp6Jb4R"
      },
      "source": [
        ""
      ],
      "execution_count": 21,
      "outputs": []
    }
  ]
}