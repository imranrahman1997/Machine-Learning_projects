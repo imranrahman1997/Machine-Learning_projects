{
  "nbformat": 4,
  "nbformat_minor": 0,
  "metadata": {
    "colab": {
      "name": "mnist_resnet_transfer learning.ipynb",
      "provenance": [],
      "mount_file_id": "11y2oFUfpcg1JHUYfS53scL6WpfAmX-qf",
      "authorship_tag": "ABX9TyM3zvU8JX7JD5PL6q67TNl2",
      "include_colab_link": true
    },
    "kernelspec": {
      "name": "python3",
      "display_name": "Python 3"
    },
    "accelerator": "GPU"
  },
  "cells": [
    {
      "cell_type": "markdown",
      "metadata": {
        "id": "view-in-github",
        "colab_type": "text"
      },
      "source": [
        "<a href=\"https://colab.research.google.com/github/imranrahman1997/TensorFlow-Course/blob/master/mnist_resnet_transfer_learning.ipynb\" target=\"_parent\"><img src=\"https://colab.research.google.com/assets/colab-badge.svg\" alt=\"Open In Colab\"/></a>"
      ]
    },
    {
      "cell_type": "code",
      "metadata": {
        "id": "KfUpTKc58G5g"
      },
      "source": [
        "#import packages\n",
        "import matplotlib.pyplot as plt\n",
        "import os\n",
        "import numpy as np\n",
        "import pandas as pd\n",
        "import IPython\n",
        "import tensorflow as tf\n",
        "import keras \n",
        "import seaborn as sns\n",
        "import warnings as w\n",
        "from sklearn.model_selection import train_test_split\n",
        "import cv2\n",
        "\n",
        "%load_ext autoreload\n",
        "%autoreload 2\n",
        "\n",
        "np.random.seed(1)\n",
        "w.filterwarnings('ignore')"
      ],
      "execution_count": 1,
      "outputs": []
    },
    {
      "cell_type": "code",
      "metadata": {
        "id": "fjEd3aSi9eZY"
      },
      "source": [
        "training_path = \"/content/drive/My Drive/Dataset/train.csv\"\n",
        "testing_path = \"/content/drive/My Drive/Dataset/test.csv\""
      ],
      "execution_count": 2,
      "outputs": []
    },
    {
      "cell_type": "code",
      "metadata": {
        "id": "pPE3Bpfc9ecC"
      },
      "source": [
        "train = pd.read_csv(training_path)\n",
        "test = pd.read_csv(testing_path)"
      ],
      "execution_count": 3,
      "outputs": []
    },
    {
      "cell_type": "code",
      "metadata": {
        "id": "flFBbLsa9eeX",
        "outputId": "8f47d543-175e-49c3-aeb2-d65dad322e68",
        "colab": {
          "base_uri": "https://localhost:8080/"
        }
      },
      "source": [
        "train.shape"
      ],
      "execution_count": 4,
      "outputs": [
        {
          "output_type": "execute_result",
          "data": {
            "text/plain": [
              "(42000, 785)"
            ]
          },
          "metadata": {
            "tags": []
          },
          "execution_count": 4
        }
      ]
    },
    {
      "cell_type": "code",
      "metadata": {
        "id": "SqGDK5ix9e-M"
      },
      "source": [
        "num_example_train = train.shape[0]\n",
        "num_example_test = test.shape[0]\n",
        "n_h = 32\n",
        "n_w = 32\n",
        "n_c = 3"
      ],
      "execution_count": 9,
      "outputs": []
    },
    {
      "cell_type": "code",
      "metadata": {
        "id": "L-MmpgIG9fCT"
      },
      "source": [
        "Train_input_images = np.zeros((num_example_train, n_h, n_w, n_c))\n",
        "Test_input_images = np.zeros((num_example_test, n_h, n_w, n_c))"
      ],
      "execution_count": 10,
      "outputs": []
    },
    {
      "cell_type": "code",
      "metadata": {
        "id": "wQd54Xo19fHF"
      },
      "source": [
        "for example in range(num_example_train):\n",
        "    Train_input_images[example,:28,:28,0] = train.iloc[example, 1:].values.reshape(28,28)\n",
        "    Train_input_images[example,:28,:28,1] = train.iloc[example, 1:].values.reshape(28,28)\n",
        "    Train_input_images[example,:28,:28,2] = train.iloc[example, 1:].values.reshape(28,28)\n",
        "    \n",
        "for example in range(num_example_test):\n",
        "    Test_input_images[example,:28,:28,0] = test.iloc[example, :].values.reshape(28,28)\n",
        "    Test_input_images[example,:28,:28,1] = test.iloc[example, :].values.reshape(28,28)\n",
        "    Test_input_images[example,:28,:28,2] = test.iloc[example, :].values.reshape(28,28)"
      ],
      "execution_count": 12,
      "outputs": []
    },
    {
      "cell_type": "code",
      "metadata": {
        "id": "5-DboOD29fLk"
      },
      "source": [
        "for example in range(num_example_train):\n",
        "    Train_input_images[example] = cv2.resize(Train_input_images[example], (n_h, n_w))\n",
        "    \n",
        "for example in range(num_example_test):\n",
        "    Test_input_images[example] = cv2.resize(Test_input_images[example], (n_h, n_w))"
      ],
      "execution_count": 13,
      "outputs": []
    },
    {
      "cell_type": "code",
      "metadata": {
        "id": "nb58cCU29fP3"
      },
      "source": [
        "Train_labels = np.array(train.iloc[:, 0])"
      ],
      "execution_count": 14,
      "outputs": []
    },
    {
      "cell_type": "code",
      "metadata": {
        "id": "FB7_d2K29fUu",
        "outputId": "97817183-0950-453b-9291-cc18098dd4cc",
        "colab": {
          "base_uri": "https://localhost:8080/"
        }
      },
      "source": [
        "print(\"Shape of train input images : \", Train_input_images.shape)\n",
        "print(\"Shape of test input images : \", Test_input_images.shape)\n",
        "print(\"Shape of train labels : \", Train_labels.shape)"
      ],
      "execution_count": 15,
      "outputs": [
        {
          "output_type": "stream",
          "text": [
            "Shape of train input images :  (42000, 32, 32, 3)\n",
            "Shape of test input images :  (28000, 32, 32, 3)\n",
            "Shape of train labels :  (42000,)\n"
          ],
          "name": "stdout"
        }
      ]
    },
    {
      "cell_type": "code",
      "metadata": {
        "id": "v-5WXbqp9fX4"
      },
      "source": [
        "from tensorflow.keras.preprocessing.image import ImageDataGenerator\n",
        "\n",
        "train_datagen = ImageDataGenerator(\n",
        "    rotation_range=27,\n",
        "    width_shift_range=0.3,\n",
        "    height_shift_range=0.2,\n",
        "    shear_range=0.3,\n",
        "    zoom_range=0.2,\n",
        "    horizontal_flip=False)\n",
        "\n",
        "validation_datagen = ImageDataGenerator()"
      ],
      "execution_count": 16,
      "outputs": []
    },
    {
      "cell_type": "code",
      "metadata": {
        "id": "edwouAJI9fSi",
        "outputId": "33c4fc9f-6863-4891-bfd2-1c59ce68958b",
        "colab": {
          "base_uri": "https://localhost:8080/"
        }
      },
      "source": [
        "pretrained_model = keras.applications.resnet50.ResNet50(input_shape=(n_h, n_w, n_c),\n",
        "                                                        include_top=False, weights='imagenet')\n",
        "\n",
        "model = keras.Sequential([\n",
        "    pretrained_model,\n",
        "    keras.layers.Flatten(),\n",
        "    keras.layers.Dense(units=60, activation='relu'),\n",
        "    keras.layers.Dense(units=10, activation='softmax')\n",
        "])"
      ],
      "execution_count": 17,
      "outputs": [
        {
          "output_type": "stream",
          "text": [
            "Downloading data from https://storage.googleapis.com/tensorflow/keras-applications/resnet/resnet50_weights_tf_dim_ordering_tf_kernels_notop.h5\n",
            "94773248/94765736 [==============================] - 1s 0us/step\n"
          ],
          "name": "stdout"
        }
      ]
    },
    {
      "cell_type": "code",
      "metadata": {
        "id": "ulC0aYWI9fJv",
        "outputId": "09ccd05f-29a6-4b93-e5dd-a247c9b71df2",
        "colab": {
          "base_uri": "https://localhost:8080/"
        }
      },
      "source": [
        "model.summary()"
      ],
      "execution_count": 18,
      "outputs": [
        {
          "output_type": "stream",
          "text": [
            "Model: \"sequential\"\n",
            "_________________________________________________________________\n",
            "Layer (type)                 Output Shape              Param #   \n",
            "=================================================================\n",
            "resnet50 (Functional)        (None, 1, 1, 2048)        23587712  \n",
            "_________________________________________________________________\n",
            "flatten (Flatten)            (None, 2048)              0         \n",
            "_________________________________________________________________\n",
            "dense (Dense)                (None, 60)                122940    \n",
            "_________________________________________________________________\n",
            "dense_1 (Dense)              (None, 10)                610       \n",
            "=================================================================\n",
            "Total params: 23,711,262\n",
            "Trainable params: 23,658,142\n",
            "Non-trainable params: 53,120\n",
            "_________________________________________________________________\n"
          ],
          "name": "stdout"
        }
      ]
    },
    {
      "cell_type": "code",
      "metadata": {
        "id": "apMT-D479fFI"
      },
      "source": [
        "Optimizer = 'RMSprop'\n",
        "\n",
        "model.compile(optimizer=Optimizer, \n",
        "                loss='sparse_categorical_crossentropy',\n",
        "                metrics=['accuracy'])"
      ],
      "execution_count": 19,
      "outputs": []
    },
    {
      "cell_type": "code",
      "metadata": {
        "id": "0BhrosxU9e74"
      },
      "source": [
        "train_images, dev_images, train_labels, dev_labels = train_test_split(Train_input_images, \n",
        "                                                                      Train_labels,\n",
        "                                                                      test_size=0.1, train_size=0.9,\n",
        "                                                                      shuffle=True,\n",
        "                                                                      random_state=44)\n",
        "test_images = Test_input_images"
      ],
      "execution_count": 20,
      "outputs": []
    },
    {
      "cell_type": "code",
      "metadata": {
        "id": "Y2OtUpWp9esq"
      },
      "source": [
        "class myCallback(keras.callbacks.Callback):\n",
        "    def on_epoch_end(self, epoch, logs={}):\n",
        "        if (logs.get('accuracy') > 0.999999):\n",
        "            print(\"Stop training!\")\n",
        "            self.model.stop_training = True"
      ],
      "execution_count": 21,
      "outputs": []
    },
    {
      "cell_type": "code",
      "metadata": {
        "id": "_81SY2I19eq7"
      },
      "source": [
        "callbacks = myCallback()"
      ],
      "execution_count": 22,
      "outputs": []
    },
    {
      "cell_type": "code",
      "metadata": {
        "id": "3w9X9Yj29el2",
        "outputId": "b29d1f3c-8201-46f1-8e63-3f77310fb60d",
        "colab": {
          "base_uri": "https://localhost:8080/"
        }
      },
      "source": [
        "EPOCHS = 20\n",
        "batch_size = 212\n",
        "\n",
        "history = model.fit_generator(train_datagen.flow(train_images,train_labels, batch_size=batch_size),\n",
        "                         steps_per_epoch=train_images.shape[0] / batch_size, \n",
        "                         epochs=EPOCHS,   \n",
        "                         validation_data=validation_datagen.flow(dev_images,dev_labels,\n",
        "                                                                 batch_size=batch_size),\n",
        "                         validation_steps=dev_images.shape[0] / batch_size,\n",
        "                         callbacks=[callbacks])"
      ],
      "execution_count": 24,
      "outputs": [
        {
          "output_type": "stream",
          "text": [
            "Epoch 1/20\n",
            "179/178 [==============================] - 24s 136ms/step - loss: 0.1354 - accuracy: 0.9681 - val_loss: 1.1949 - val_accuracy: 0.9298\n",
            "Epoch 2/20\n",
            "179/178 [==============================] - 24s 135ms/step - loss: 0.1343 - accuracy: 0.9732 - val_loss: 0.7087 - val_accuracy: 0.9074\n",
            "Epoch 3/20\n",
            "179/178 [==============================] - 24s 135ms/step - loss: 0.1101 - accuracy: 0.9733 - val_loss: 0.0787 - val_accuracy: 0.9807\n",
            "Epoch 4/20\n",
            "179/178 [==============================] - 24s 136ms/step - loss: 0.1070 - accuracy: 0.9748 - val_loss: 1.6613 - val_accuracy: 0.9219\n",
            "Epoch 5/20\n",
            "179/178 [==============================] - 24s 135ms/step - loss: 0.0971 - accuracy: 0.9764 - val_loss: 0.5929 - val_accuracy: 0.9476\n",
            "Epoch 6/20\n",
            "179/178 [==============================] - 24s 137ms/step - loss: 0.1037 - accuracy: 0.9766 - val_loss: 0.2377 - val_accuracy: 0.9848\n",
            "Epoch 7/20\n",
            "179/178 [==============================] - 24s 134ms/step - loss: 0.0898 - accuracy: 0.9786 - val_loss: 3.1160 - val_accuracy: 0.9088\n",
            "Epoch 8/20\n",
            "179/178 [==============================] - 24s 134ms/step - loss: 0.1136 - accuracy: 0.9793 - val_loss: 0.1274 - val_accuracy: 0.9700\n",
            "Epoch 9/20\n",
            "179/178 [==============================] - 24s 135ms/step - loss: 0.1279 - accuracy: 0.9786 - val_loss: 0.4239 - val_accuracy: 0.9740\n",
            "Epoch 10/20\n",
            "179/178 [==============================] - 24s 136ms/step - loss: 0.0945 - accuracy: 0.9800 - val_loss: 0.1835 - val_accuracy: 0.9710\n",
            "Epoch 11/20\n",
            "179/178 [==============================] - 24s 135ms/step - loss: 0.0874 - accuracy: 0.9810 - val_loss: 7.7195 - val_accuracy: 0.8924\n",
            "Epoch 12/20\n",
            "179/178 [==============================] - 24s 136ms/step - loss: 0.0828 - accuracy: 0.9813 - val_loss: 0.1583 - val_accuracy: 0.9786\n",
            "Epoch 13/20\n",
            "179/178 [==============================] - 24s 137ms/step - loss: 0.0996 - accuracy: 0.9811 - val_loss: 0.9905 - val_accuracy: 0.9638\n",
            "Epoch 14/20\n",
            "179/178 [==============================] - 24s 136ms/step - loss: 0.0837 - accuracy: 0.9816 - val_loss: 0.0470 - val_accuracy: 0.9876\n",
            "Epoch 15/20\n",
            "179/178 [==============================] - 24s 134ms/step - loss: 0.1442 - accuracy: 0.9813 - val_loss: 0.8188 - val_accuracy: 0.9650\n",
            "Epoch 16/20\n",
            "179/178 [==============================] - 24s 134ms/step - loss: 0.0957 - accuracy: 0.9820 - val_loss: 0.7856 - val_accuracy: 0.9686\n",
            "Epoch 17/20\n",
            "179/178 [==============================] - 24s 134ms/step - loss: 0.0722 - accuracy: 0.9826 - val_loss: 0.0888 - val_accuracy: 0.9762\n",
            "Epoch 18/20\n",
            "179/178 [==============================] - 24s 135ms/step - loss: 0.0688 - accuracy: 0.9834 - val_loss: 0.1707 - val_accuracy: 0.9745\n",
            "Epoch 19/20\n",
            "179/178 [==============================] - 24s 136ms/step - loss: 0.0702 - accuracy: 0.9830 - val_loss: 7.3387 - val_accuracy: 0.8898\n",
            "Epoch 20/20\n",
            "179/178 [==============================] - 24s 135ms/step - loss: 0.0879 - accuracy: 0.9836 - val_loss: 0.0847 - val_accuracy: 0.9850\n"
          ],
          "name": "stdout"
        }
      ]
    },
    {
      "cell_type": "code",
      "metadata": {
        "id": "p1iZpo769ehQ",
        "outputId": "059856f8-762e-4f81-d4e4-5742ead404b4",
        "colab": {
          "base_uri": "https://localhost:8080/",
          "height": 337
        }
      },
      "source": [
        "plt.style.use('ggplot')  \n",
        " \n",
        "acc = history.history['accuracy']\n",
        "val_acc = history.history['val_accuracy']  \n",
        "loss = history.history['loss'] \n",
        "val_loss = history.history['val_loss'] \n",
        "\n",
        "epochs = range(len(acc))\n",
        "\n",
        "fig, ax = plt.subplots(1, 2, figsize=(15, 5))\n",
        "fig.subplots_adjust(wspace=0.15, hspace=0.025)\n",
        "ax = ax.ravel()\n",
        "\n",
        "ax[0].plot(epochs, acc, 'r', label='Training accuracy')\n",
        "ax[0].plot(epochs, val_acc, 'b', label='Validation accuracy')\n",
        "ax[0].set_title('Training and validation accuracy')\n",
        "ax[0].legend(loc=\"upper left\", shadow=True, frameon=True, fancybox=True, framealpha=0.9)\n",
        "\n",
        "ax[1].plot(epochs, loss, 'r', label='Training Loss')\n",
        "ax[1].plot(epochs, val_loss, 'b', label='Validation Loss')\n",
        "ax[1].set_title('Training and validation loss')\n",
        "ax[1].legend(loc=\"upper right\", shadow=True, frameon=True, fancybox=True, framealpha=0.9)\n",
        "\n",
        "plt.show()"
      ],
      "execution_count": 25,
      "outputs": [
        {
          "output_type": "display_data",
          "data": {
            "image/png": "[encoded data removed]",
            "text/plain": [
              "<Figure size 1080x360 with 2 Axes>"
            ]
          },
          "metadata": {
            "tags": []
          }
        }
      ]
    },
    {
      "cell_type": "code",
      "metadata": {
        "id": "O9UIQlgU9dNx"
      },
      "source": [
        "prediction = model.predict(test_images)"
      ],
      "execution_count": 26,
      "outputs": []
    },
    {
      "cell_type": "code",
      "metadata": {
        "id": "3TPzryAZ9dVI",
        "outputId": "0106636e-539c-4e7a-a3a7-d0307ba31ef6",
        "colab": {
          "base_uri": "https://localhost:8080/"
        }
      },
      "source": [
        "prediction"
      ],
      "execution_count": 28,
      "outputs": [
        {
          "output_type": "execute_result",
          "data": {
            "text/plain": [
              "array([[4.5795293e-08, 2.4626896e-08, 9.9997675e-01, ..., 1.3358922e-05,\n",
              "        2.3546954e-06, 3.1446700e-07],\n",
              "       [9.9999595e-01, 1.3575519e-11, 4.8187797e-08, ..., 1.3496138e-10,\n",
              "        2.1337087e-08, 8.0572067e-07],\n",
              "       [4.5597339e-17, 6.2627371e-23, 4.7839747e-18, ..., 1.6823148e-14,\n",
              "        1.4814448e-13, 1.0000000e+00],\n",
              "       ...,\n",
              "       [0.0000000e+00, 0.0000000e+00, 0.0000000e+00, ..., 0.0000000e+00,\n",
              "        0.0000000e+00, 0.0000000e+00],\n",
              "       [0.0000000e+00, 0.0000000e+00, 0.0000000e+00, ..., 0.0000000e+00,\n",
              "        0.0000000e+00, 1.0000000e+00],\n",
              "       [5.2640468e-15, 3.5636400e-15, 1.0000000e+00, ..., 2.2507569e-10,\n",
              "        2.1861976e-11, 1.3712452e-12]], dtype=float32)"
            ]
          },
          "metadata": {
            "tags": []
          },
          "execution_count": 28
        }
      ]
    },
    {
      "cell_type": "code",
      "metadata": {
        "id": "Xd4AT2Qw9dbi",
        "outputId": "9d1d8422-30b5-43d6-b28a-113857321eb7",
        "colab": {
          "base_uri": "https://localhost:8080/"
        }
      },
      "source": [
        "print(np.argmax(prediction, axis = 1))"
      ],
      "execution_count": 29,
      "outputs": [
        {
          "output_type": "stream",
          "text": [
            "[2 0 9 ... 3 9 2]\n"
          ],
          "name": "stdout"
        }
      ]
    },
    {
      "cell_type": "code",
      "metadata": {
        "id": "DefCUgUT9dds"
      },
      "source": [
        "results = np.argmax(prediction, axis = 1)"
      ],
      "execution_count": 30,
      "outputs": []
    },
    {
      "cell_type": "code",
      "metadata": {
        "id": "lyj7-4hH9dhz"
      },
      "source": [
        "results = pd.Series(results, name = \"Label\")"
      ],
      "execution_count": 31,
      "outputs": []
    },
    {
      "cell_type": "code",
      "metadata": {
        "id": "z18j4UoW9dkH"
      },
      "source": [
        "submission = pd.concat([pd.Series(range(1,28001),name = \"ImageId\"),results],axis = 1)"
      ],
      "execution_count": 32,
      "outputs": []
    },
    {
      "cell_type": "code",
      "metadata": {
        "id": "AroVBngy9dn5"
      },
      "source": [
        "submission.to_csv(\"/content/drive/My Drive/Dataset/MNIST-CNN_resnet.csv\",index=False)\n"
      ],
      "execution_count": 33,
      "outputs": []
    },
    {
      "cell_type": "code",
      "metadata": {
        "id": "xOzkT7wx9dgS"
      },
      "source": [
        ""
      ],
      "execution_count": null,
      "outputs": []
    },
    {
      "cell_type": "code",
      "metadata": {
        "id": "s049UpRU9dZr"
      },
      "source": [
        ""
      ],
      "execution_count": null,
      "outputs": []
    },
    {
      "cell_type": "code",
      "metadata": {
        "id": "Dd8WasMG9dYI"
      },
      "source": [
        ""
      ],
      "execution_count": null,
      "outputs": []
    },
    {
      "cell_type": "code",
      "metadata": {
        "id": "sx4wCkw59dTd"
      },
      "source": [
        ""
      ],
      "execution_count": null,
      "outputs": []
    },
    {
      "cell_type": "code",
      "metadata": {
        "id": "Gf0ibxM79dRv"
      },
      "source": [
        ""
      ],
      "execution_count": null,
      "outputs": []
    }
  ]
}